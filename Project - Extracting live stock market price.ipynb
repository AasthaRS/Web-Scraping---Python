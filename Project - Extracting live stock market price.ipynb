{
 "cells": [
  {
   "cell_type": "code",
   "execution_count": null,
   "metadata": {},
   "outputs": [
    {
     "name": "stdout",
     "output_type": "stream",
     "text": [
      "Current Sensex Price:50,781.69\n",
      "Current Sensex Price:50,781.69\n",
      "Current Sensex Price:50,781.69\n",
      "Current Sensex Price:50,781.69\n",
      "Current Sensex Price:50,781.69\n",
      "Current Sensex Price:50,781.69\n",
      "Current Sensex Price:50,781.69\n",
      "Current Sensex Price:50,781.69\n",
      "Current Sensex Price:50,781.69\n",
      "Current Sensex Price:50,781.69\n",
      "Current Sensex Price:50,781.69\n"
     ]
    }
   ],
   "source": [
    "from bs4 import BeautifulSoup\n",
    "import requests\n",
    "\n",
    "def parseprice():\n",
    "    req = requests.get('https://in.finance.yahoo.com/quote/%5EBSESN?p=%5EBSESN')\n",
    "    soup = BeautifulSoup(req.text, 'lxml')   #lxml parses the html and xml elements of webpage\n",
    "    price = soup.find('div',{'class':'D(ib) Mend(20px)'}).findAll('span')\n",
    "    return price[0].text\n",
    "\n",
    "while True:\n",
    "    print(\"Current Sensex Price:\" + str(parseprice()))"
   ]
  },
  {
   "cell_type": "code",
   "execution_count": null,
   "metadata": {},
   "outputs": [],
   "source": []
  }
 ],
 "metadata": {
  "kernelspec": {
   "display_name": "Python 3",
   "language": "python",
   "name": "python3"
  },
  "language_info": {
   "codemirror_mode": {
    "name": "ipython",
    "version": 3
   },
   "file_extension": ".py",
   "mimetype": "text/x-python",
   "name": "python",
   "nbconvert_exporter": "python",
   "pygments_lexer": "ipython3",
   "version": "3.8.3"
  }
 },
 "nbformat": 4,
 "nbformat_minor": 4
}
